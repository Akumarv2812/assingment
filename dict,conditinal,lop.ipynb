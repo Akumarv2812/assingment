{
 "cells": [
  {
   "cell_type": "code",
   "execution_count": 1,
   "id": "1c812c86-1297-410d-b792-3ddc00b4946b",
   "metadata": {},
   "outputs": [],
   "source": [
    "d={}"
   ]
  },
  {
   "cell_type": "code",
   "execution_count": 2,
   "id": "c5eda647-814f-40a7-b50a-f99b112d79ea",
   "metadata": {},
   "outputs": [
    {
     "data": {
      "text/plain": [
       "dict"
      ]
     },
     "execution_count": 2,
     "metadata": {},
     "output_type": "execute_result"
    }
   ],
   "source": [
    "type(d)"
   ]
  },
  {
   "cell_type": "code",
   "execution_count": 3,
   "id": "7cab3ab9-b20e-44da-bcad-515ca6e75ad4",
   "metadata": {},
   "outputs": [],
   "source": [
    "d1={'key':'arun'}"
   ]
  },
  {
   "cell_type": "code",
   "execution_count": 4,
   "id": "a0830d73-33b1-4ab3-940d-473af5c1fb6b",
   "metadata": {},
   "outputs": [
    {
     "data": {
      "text/plain": [
       "{'key': 'arun'}"
      ]
     },
     "execution_count": 4,
     "metadata": {},
     "output_type": "execute_result"
    }
   ],
   "source": [
    "d1"
   ]
  },
  {
   "cell_type": "code",
   "execution_count": 7,
   "id": "b79d534e-95d3-4599-bfb3-75f410f5cca8",
   "metadata": {},
   "outputs": [],
   "source": [
    "d2={'name':\"arunverma\",\"email\":\"akumarv2812@gmail.com\",\"number\":33435}"
   ]
  },
  {
   "cell_type": "code",
   "execution_count": 8,
   "id": "6adb4652-b081-4b77-ab5d-eafce2a1a303",
   "metadata": {},
   "outputs": [
    {
     "data": {
      "text/plain": [
       "{'name': 'arunverma', 'email': 'akumarv2812@gmail.com', 'number': 33435}"
      ]
     },
     "execution_count": 8,
     "metadata": {},
     "output_type": "execute_result"
    }
   ],
   "source": [
    "d2"
   ]
  },
  {
   "cell_type": "code",
   "execution_count": 14,
   "id": "cead7924-492c-4e21-bbf9-382bdda8b056",
   "metadata": {},
   "outputs": [],
   "source": [
    "d3={234:\"arun\",'_wer':\"kumar\",True:23426}"
   ]
  },
  {
   "cell_type": "code",
   "execution_count": 15,
   "id": "0a3eed70-bd69-4cef-824f-b49de5bfc058",
   "metadata": {},
   "outputs": [
    {
     "data": {
      "text/plain": [
       "{234: 'arun', '_wer': 'kumar', True: 23426}"
      ]
     },
     "execution_count": 15,
     "metadata": {},
     "output_type": "execute_result"
    }
   ],
   "source": [
    "d3"
   ]
  },
  {
   "cell_type": "code",
   "execution_count": 17,
   "id": "c4f9aad6-af1d-4a43-a103-91df790f6334",
   "metadata": {},
   "outputs": [
    {
     "data": {
      "text/plain": [
       "'arun'"
      ]
     },
     "execution_count": 17,
     "metadata": {},
     "output_type": "execute_result"
    }
   ],
   "source": [
    "d3[234]"
   ]
  },
  {
   "cell_type": "code",
   "execution_count": 18,
   "id": "d5a8126b-a884-4a2c-b52a-4555c21e1008",
   "metadata": {},
   "outputs": [
    {
     "data": {
      "text/plain": [
       "23426"
      ]
     },
     "execution_count": 18,
     "metadata": {},
     "output_type": "execute_result"
    }
   ],
   "source": [
    "d3[True]"
   ]
  },
  {
   "cell_type": "code",
   "execution_count": 19,
   "id": "1da726c2-24c5-4e08-bb35-b1ae4c24f97d",
   "metadata": {},
   "outputs": [
    {
     "data": {
      "text/plain": [
       "23426"
      ]
     },
     "execution_count": 19,
     "metadata": {},
     "output_type": "execute_result"
    }
   ],
   "source": [
    "d3[1]"
   ]
  },
  {
   "cell_type": "code",
   "execution_count": 21,
   "id": "10f9136f-0a19-4eeb-b6c3-e90d8e336ea5",
   "metadata": {},
   "outputs": [],
   "source": [
    "d4={'name':\"arun\",'mail_id':\"akumarv2812@gmil.com\",\"name\":\"arunverma\"}"
   ]
  },
  {
   "cell_type": "code",
   "execution_count": 22,
   "id": "b1faf7fc-368c-47bd-ac90-52cca8d87b53",
   "metadata": {},
   "outputs": [
    {
     "data": {
      "text/plain": [
       "'arunverma'"
      ]
     },
     "execution_count": 22,
     "metadata": {},
     "output_type": "execute_result"
    }
   ],
   "source": [
    "d4['name']"
   ]
  },
  {
   "cell_type": "code",
   "execution_count": 1,
   "id": "27176693-e5b1-4165-b6f8-4d78c35a5b02",
   "metadata": {},
   "outputs": [
    {
     "ename": "NameError",
     "evalue": "name 'd4' is not defined",
     "output_type": "error",
     "traceback": [
      "\u001b[0;31m---------------------------------------------------------------------------\u001b[0m",
      "\u001b[0;31mNameError\u001b[0m                                 Traceback (most recent call last)",
      "Cell \u001b[0;32mIn [1], line 1\u001b[0m\n\u001b[0;32m----> 1\u001b[0m \u001b[43md4\u001b[49m\n",
      "\u001b[0;31mNameError\u001b[0m: name 'd4' is not defined"
     ]
    }
   ],
   "source": [
    "d4"
   ]
  },
  {
   "cell_type": "code",
   "execution_count": 2,
   "id": "bb138c86-2ae5-4c4d-9e3c-77b703ff836f",
   "metadata": {},
   "outputs": [
    {
     "ename": "NameError",
     "evalue": "name 'd1' is not defined",
     "output_type": "error",
     "traceback": [
      "\u001b[0;31m---------------------------------------------------------------------------\u001b[0m",
      "\u001b[0;31mNameError\u001b[0m                                 Traceback (most recent call last)",
      "Cell \u001b[0;32mIn [2], line 1\u001b[0m\n\u001b[0;32m----> 1\u001b[0m \u001b[43md1\u001b[49m\n",
      "\u001b[0;31mNameError\u001b[0m: name 'd1' is not defined"
     ]
    }
   ],
   "source": [
    "d1"
   ]
  },
  {
   "cell_type": "code",
   "execution_count": 3,
   "id": "e5e8bf22-ad1e-4a94-ac5a-744912f17414",
   "metadata": {},
   "outputs": [
    {
     "ename": "NameError",
     "evalue": "name 'd4' is not defined",
     "output_type": "error",
     "traceback": [
      "\u001b[0;31m---------------------------------------------------------------------------\u001b[0m",
      "\u001b[0;31mNameError\u001b[0m                                 Traceback (most recent call last)",
      "Cell \u001b[0;32mIn [3], line 1\u001b[0m\n\u001b[0;32m----> 1\u001b[0m \u001b[43md4\u001b[49m[\u001b[38;5;124m'\u001b[39m\u001b[38;5;124mname\u001b[39m\u001b[38;5;124m'\u001b[39m]\n",
      "\u001b[0;31mNameError\u001b[0m: name 'd4' is not defined"
     ]
    }
   ],
   "source": [
    "d4['name']"
   ]
  },
  {
   "cell_type": "code",
   "execution_count": 5,
   "id": "bb6094a5-0b36-43c6-8ae4-657288f127f7",
   "metadata": {},
   "outputs": [],
   "source": [
    "d={}"
   ]
  },
  {
   "cell_type": "code",
   "execution_count": 6,
   "id": "771c593c-fb7c-4d16-828e-ec3dccbb2419",
   "metadata": {},
   "outputs": [
    {
     "data": {
      "text/plain": [
       "dict"
      ]
     },
     "execution_count": 6,
     "metadata": {},
     "output_type": "execute_result"
    }
   ],
   "source": [
    "type(d)"
   ]
  },
  {
   "cell_type": "code",
   "execution_count": 7,
   "id": "a5e6a52d-7d0b-41cb-8a2a-bc0aa1f9080c",
   "metadata": {},
   "outputs": [
    {
     "ename": "NameError",
     "evalue": "name 'd4' is not defined",
     "output_type": "error",
     "traceback": [
      "\u001b[0;31m---------------------------------------------------------------------------\u001b[0m",
      "\u001b[0;31mNameError\u001b[0m                                 Traceback (most recent call last)",
      "Cell \u001b[0;32mIn [7], line 1\u001b[0m\n\u001b[0;32m----> 1\u001b[0m \u001b[43md4\u001b[49m[\u001b[38;5;124m'\u001b[39m\u001b[38;5;124mname\u001b[39m\u001b[38;5;124m'\u001b[39m]\n",
      "\u001b[0;31mNameError\u001b[0m: name 'd4' is not defined"
     ]
    }
   ],
   "source": [
    "d4['name']"
   ]
  },
  {
   "cell_type": "code",
   "execution_count": null,
   "id": "2392e7da-13c3-460c-9231-98e25cf6b0ed",
   "metadata": {},
   "outputs": [],
   "source": []
  }
 ],
 "metadata": {
  "kernelspec": {
   "display_name": "Python 3 (ipykernel)",
   "language": "python",
   "name": "python3"
  },
  "language_info": {
   "codemirror_mode": {
    "name": "ipython",
    "version": 3
   },
   "file_extension": ".py",
   "mimetype": "text/x-python",
   "name": "python",
   "nbconvert_exporter": "python",
   "pygments_lexer": "ipython3",
   "version": "3.10.6"
  }
 },
 "nbformat": 4,
 "nbformat_minor": 5
}
